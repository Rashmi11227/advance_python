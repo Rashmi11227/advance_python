{
 "cells": [
  {
   "cell_type": "markdown",
   "id": "3692dbfe",
   "metadata": {},
   "source": [
    "## Decorators"
   ]
  },
  {
   "cell_type": "code",
   "execution_count": 21,
   "id": "181da5f5",
   "metadata": {},
   "outputs": [],
   "source": [
    " def multiply(x:int|float,y:int|float):\n",
    "    '''take inputs parameters as x & y\n",
    "    return product of it'''\n",
    "    prod=x*y\n",
    "    return prod\n",
    " "
   ]
  },
  {
   "cell_type": "code",
   "execution_count": 22,
   "id": "10190f4a",
   "metadata": {},
   "outputs": [
    {
     "data": {
      "text/plain": [
       "276"
      ]
     },
     "execution_count": 22,
     "metadata": {},
     "output_type": "execute_result"
    }
   ],
   "source": [
    "multiply(23,12)"
   ]
  },
  {
   "cell_type": "code",
   "execution_count": 23,
   "id": "8c108386",
   "metadata": {},
   "outputs": [
    {
     "data": {
      "text/plain": [
       "[1, 1, 1]"
      ]
     },
     "execution_count": 23,
     "metadata": {},
     "output_type": "execute_result"
    }
   ],
   "source": [
    "multiply([1],3)"
   ]
  },
  {
   "cell_type": "code",
   "execution_count": 24,
   "id": "eeb3634a",
   "metadata": {},
   "outputs": [
    {
     "data": {
      "text/plain": [
       "'aaa'"
      ]
     },
     "execution_count": 24,
     "metadata": {},
     "output_type": "execute_result"
    }
   ],
   "source": [
    "multiply(\"a\",3)"
   ]
  },
  {
   "cell_type": "code",
   "execution_count": 25,
   "id": "0cad46ce",
   "metadata": {},
   "outputs": [
    {
     "name": "stdout",
     "output_type": "stream",
     "text": [
      "Requirement already satisfied: ensure in c:\\users\\admin\\desktop\\advanced python videos\\adv_python1\\repository\\venv\\lib\\site-packages (1.0.4)\n",
      "Requirement already satisfied: six>=1.11.0 in c:\\users\\admin\\desktop\\advanced python videos\\adv_python1\\repository\\venv\\lib\\site-packages (from ensure) (1.17.0)\n",
      "Note: you may need to restart the kernel to use updated packages.\n"
     ]
    }
   ],
   "source": [
    "%pip install ensure"
   ]
  },
  {
   "cell_type": "code",
   "execution_count": 26,
   "id": "a8bfa7e9",
   "metadata": {},
   "outputs": [],
   "source": [
    "from ensure import ensure_annotations"
   ]
  },
  {
   "cell_type": "code",
   "execution_count": 27,
   "id": "b7510ca9",
   "metadata": {},
   "outputs": [],
   "source": [
    " @ensure_annotations\n",
    " def multiply1(x:int|float,y:int|float):\n",
    "    '''take inputs parameters as x & y\n",
    "    return product of it'''\n",
    "    prod=x*y\n",
    "    return prod"
   ]
  },
  {
   "cell_type": "code",
   "execution_count": 28,
   "id": "b5ddf387",
   "metadata": {},
   "outputs": [
    {
     "data": {
      "text/plain": [
       "24"
      ]
     },
     "execution_count": 28,
     "metadata": {},
     "output_type": "execute_result"
    }
   ],
   "source": [
    "multiply1(12,2)"
   ]
  },
  {
   "cell_type": "code",
   "execution_count": 30,
   "id": "749ea3c7",
   "metadata": {},
   "outputs": [],
   "source": [
    "def welcome(func):\n",
    "    def wrapper(*args,**kwargs):\n",
    "        print(\"hi welcome to the page.\")\n",
    "        result=func(*args,**kwargs)\n",
    "        print(\"thanku for using this function\")\n",
    "        return result\n",
    "    return wrapper    "
   ]
  },
  {
   "cell_type": "code",
   "execution_count": 32,
   "id": "64240f3c",
   "metadata": {},
   "outputs": [],
   "source": [
    "@welcome\n",
    "def simple_interest(p,n,r):\n",
    "    return (p*n*r)/100"
   ]
  },
  {
   "cell_type": "code",
   "execution_count": 33,
   "id": "af4e2c48",
   "metadata": {},
   "outputs": [
    {
     "name": "stdout",
     "output_type": "stream",
     "text": [
      "hi welcome to the page.\n",
      "thanku for using this function\n"
     ]
    },
    {
     "data": {
      "text/plain": [
       "25200.0"
      ]
     },
     "execution_count": 33,
     "metadata": {},
     "output_type": "execute_result"
    }
   ],
   "source": [
    "simple_interest(35000,12,6)"
   ]
  },
  {
   "cell_type": "code",
   "execution_count": 34,
   "id": "a8898917",
   "metadata": {},
   "outputs": [],
   "source": [
    "list_nums=[2,3,4,5,6]"
   ]
  },
  {
   "cell_type": "code",
   "execution_count": 41,
   "id": "3f71ce2b",
   "metadata": {},
   "outputs": [],
   "source": [
    "@welcome\n",
    "def sqr_nums(list_data:list):\n",
    "    sqr_num=[]\n",
    "    for i in list_data:\n",
    "        sqr_num.append(i**2)\n",
    "    return sqr_num    "
   ]
  },
  {
   "cell_type": "code",
   "execution_count": 43,
   "id": "908aa921",
   "metadata": {},
   "outputs": [
    {
     "name": "stdout",
     "output_type": "stream",
     "text": [
      "hi welcome to the page.\n",
      "thanku for using this function\n"
     ]
    },
    {
     "data": {
      "text/plain": [
       "[4, 9, 16, 25, 36]"
      ]
     },
     "execution_count": 43,
     "metadata": {},
     "output_type": "execute_result"
    }
   ],
   "source": [
    "\n",
    "sqr1=sqr_nums(list_nums)\n",
    "sqr1"
   ]
  },
  {
   "cell_type": "code",
   "execution_count": 55,
   "id": "032fe146",
   "metadata": {},
   "outputs": [],
   "source": [
    "import time"
   ]
  },
  {
   "cell_type": "code",
   "execution_count": 60,
   "id": "4c30f8e6",
   "metadata": {},
   "outputs": [],
   "source": [
    "def performance_checker(func):\n",
    "    def wrapper(*args,**kwargs):\n",
    "        print(\"checking performance of the function\")\n",
    "        start=time.perf_counter()\n",
    "        print(f\"start time is {start}\")\n",
    "        result=func(*args,**kwargs)\n",
    "        stop=time.perf_counter()\n",
    "        print(f\"stop time is {stop}\")\n",
    "        elapsed_time=stop-start\n",
    "        print(f\"time taken to execute the function is {elapsed_time}\")\n",
    "        return result\n",
    "    return wrapper    "
   ]
  },
  {
   "cell_type": "code",
   "execution_count": 61,
   "id": "4e1b8bbe",
   "metadata": {},
   "outputs": [],
   "source": [
    "@performance_checker\n",
    "def sqr_nums(list_data:list):\n",
    "    sqr_num=[]\n",
    "    for i in list_data:\n",
    "        sqr_num.append(i**2)\n",
    "    return sqr_num    "
   ]
  },
  {
   "cell_type": "code",
   "execution_count": 62,
   "id": "e6d3edd4",
   "metadata": {},
   "outputs": [
    {
     "name": "stdout",
     "output_type": "stream",
     "text": [
      "checking performance of the function\n",
      "start time is 10629.0652925\n",
      "stop time is 10629.0653489\n",
      "time taken to execute the function is 5.6400000175926834e-05\n"
     ]
    },
    {
     "data": {
      "text/plain": [
       "[4, 9, 16, 25, 36]"
      ]
     },
     "execution_count": 62,
     "metadata": {},
     "output_type": "execute_result"
    }
   ],
   "source": [
    "sqr2=sqr_nums(list_nums)\n",
    "sqr2"
   ]
  },
  {
   "cell_type": "code",
   "execution_count": 63,
   "id": "0866fb7b",
   "metadata": {},
   "outputs": [],
   "source": [
    "@welcome\n",
    "@performance_checker\n",
    "def simple_interest(p,n,r):\n",
    "    return (p*n*r)/100"
   ]
  },
  {
   "cell_type": "code",
   "execution_count": 64,
   "id": "b37dff4b",
   "metadata": {},
   "outputs": [
    {
     "name": "stdout",
     "output_type": "stream",
     "text": [
      "hi welcome to the page.\n",
      "checking performance of the function\n",
      "start time is 21690.3293273\n",
      "stop time is 21690.3313951\n",
      "time taken to execute the function is 0.0020677999964391347\n",
      "thanku for using this function\n"
     ]
    },
    {
     "data": {
      "text/plain": [
       "384000.0"
      ]
     },
     "execution_count": 64,
     "metadata": {},
     "output_type": "execute_result"
    }
   ],
   "source": [
    "si_in=simple_interest(400000,12,8)\n",
    "si_in"
   ]
  },
  {
   "cell_type": "code",
   "execution_count": null,
   "id": "07243af4",
   "metadata": {},
   "outputs": [],
   "source": []
  }
 ],
 "metadata": {
  "kernelspec": {
   "display_name": "venv",
   "language": "python",
   "name": "python3"
  },
  "language_info": {
   "codemirror_mode": {
    "name": "ipython",
    "version": 3
   },
   "file_extension": ".py",
   "mimetype": "text/x-python",
   "name": "python",
   "nbconvert_exporter": "python",
   "pygments_lexer": "ipython3",
   "version": "3.13.7"
  }
 },
 "nbformat": 4,
 "nbformat_minor": 5
}
