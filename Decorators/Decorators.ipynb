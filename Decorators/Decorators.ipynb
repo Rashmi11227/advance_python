{
 "cells": [
  {
   "cell_type": "markdown",
   "id": "3692dbfe",
   "metadata": {},
   "source": [
    "## Decorators"
   ]
  },
  {
   "cell_type": "code",
   "execution_count": 1,
   "id": "181da5f5",
   "metadata": {},
   "outputs": [],
   "source": [
    " def multiply(x:int|float,y:int|float):\n",
    "    '''take inputs parameters as x & y\n",
    "    return product of it'''\n",
    "    prod=x*y\n",
    "    return prod\n",
    " "
   ]
  },
  {
   "cell_type": "code",
   "execution_count": 2,
   "id": "10190f4a",
   "metadata": {},
   "outputs": [
    {
     "data": {
      "text/plain": [
       "276"
      ]
     },
     "execution_count": 2,
     "metadata": {},
     "output_type": "execute_result"
    }
   ],
   "source": [
    "multiply(23,12)"
   ]
  },
  {
   "cell_type": "code",
   "execution_count": 3,
   "id": "8c108386",
   "metadata": {},
   "outputs": [
    {
     "data": {
      "text/plain": [
       "[1, 1, 1]"
      ]
     },
     "execution_count": 3,
     "metadata": {},
     "output_type": "execute_result"
    }
   ],
   "source": [
    "multiply([1],3)"
   ]
  },
  {
   "cell_type": "code",
   "execution_count": 4,
   "id": "eeb3634a",
   "metadata": {},
   "outputs": [
    {
     "data": {
      "text/plain": [
       "'aaa'"
      ]
     },
     "execution_count": 4,
     "metadata": {},
     "output_type": "execute_result"
    }
   ],
   "source": [
    "multiply(\"a\",3)"
   ]
  },
  {
   "cell_type": "code",
   "execution_count": 5,
   "id": "0cad46ce",
   "metadata": {},
   "outputs": [
    {
     "name": "stdout",
     "output_type": "stream",
     "text": [
      "Requirement already satisfied: ensure in c:\\users\\admin\\desktop\\advanced python videos\\adv_python1\\repository\\venv\\lib\\site-packages (1.0.4)\n",
      "Requirement already satisfied: six>=1.11.0 in c:\\users\\admin\\desktop\\advanced python videos\\adv_python1\\repository\\venv\\lib\\site-packages (from ensure) (1.17.0)\n",
      "Note: you may need to restart the kernel to use updated packages.\n"
     ]
    }
   ],
   "source": [
    "%pip install ensure"
   ]
  },
  {
   "cell_type": "code",
   "execution_count": 6,
   "id": "a8bfa7e9",
   "metadata": {},
   "outputs": [],
   "source": [
    "from ensure import ensure_annotations"
   ]
  },
  {
   "cell_type": "code",
   "execution_count": 7,
   "id": "b7510ca9",
   "metadata": {},
   "outputs": [],
   "source": [
    " @ensure_annotations\n",
    " def multiply1(x:int|float,y:int|float):\n",
    "    '''take inputs parameters as x & y\n",
    "    return product of it'''\n",
    "    prod=x*y\n",
    "    return prod"
   ]
  },
  {
   "cell_type": "code",
   "execution_count": 8,
   "id": "b5ddf387",
   "metadata": {},
   "outputs": [
    {
     "data": {
      "text/plain": [
       "24"
      ]
     },
     "execution_count": 8,
     "metadata": {},
     "output_type": "execute_result"
    }
   ],
   "source": [
    "multiply1(12,2)"
   ]
  },
  {
   "cell_type": "code",
   "execution_count": 9,
   "id": "749ea3c7",
   "metadata": {},
   "outputs": [],
   "source": [
    "def welcome(func):\n",
    "    def wrapper(*args,**kwargs):\n",
    "        print(\"hi welcome to the page.\")\n",
    "        result=func(*args,**kwargs)\n",
    "        print(\"thanku for using this function\")\n",
    "        return result\n",
    "    return wrapper    "
   ]
  },
  {
   "cell_type": "code",
   "execution_count": 10,
   "id": "64240f3c",
   "metadata": {},
   "outputs": [],
   "source": [
    "@welcome\n",
    "def simple_interest(p,n,r):\n",
    "    return (p*n*r)/100"
   ]
  },
  {
   "cell_type": "code",
   "execution_count": 11,
   "id": "af4e2c48",
   "metadata": {},
   "outputs": [
    {
     "name": "stdout",
     "output_type": "stream",
     "text": [
      "hi welcome to the page.\n",
      "thanku for using this function\n"
     ]
    },
    {
     "data": {
      "text/plain": [
       "25200.0"
      ]
     },
     "execution_count": 11,
     "metadata": {},
     "output_type": "execute_result"
    }
   ],
   "source": [
    "simple_interest(35000,12,6)"
   ]
  },
  {
   "cell_type": "code",
   "execution_count": 12,
   "id": "a8898917",
   "metadata": {},
   "outputs": [],
   "source": [
    "list_nums=[2,3,4,5,6]"
   ]
  },
  {
   "cell_type": "code",
   "execution_count": 13,
   "id": "3f71ce2b",
   "metadata": {},
   "outputs": [],
   "source": [
    "@welcome\n",
    "def sqr_nums(list_data:list):\n",
    "    sqr_num=[]\n",
    "    for i in list_data:\n",
    "        sqr_num.append(i**2)\n",
    "    return sqr_num    "
   ]
  },
  {
   "cell_type": "code",
   "execution_count": 14,
   "id": "908aa921",
   "metadata": {},
   "outputs": [
    {
     "name": "stdout",
     "output_type": "stream",
     "text": [
      "hi welcome to the page.\n",
      "thanku for using this function\n"
     ]
    },
    {
     "data": {
      "text/plain": [
       "[4, 9, 16, 25, 36]"
      ]
     },
     "execution_count": 14,
     "metadata": {},
     "output_type": "execute_result"
    }
   ],
   "source": [
    "\n",
    "sqr1=sqr_nums(list_nums)\n",
    "sqr1"
   ]
  },
  {
   "cell_type": "code",
   "execution_count": 15,
   "id": "032fe146",
   "metadata": {},
   "outputs": [],
   "source": [
    "import time"
   ]
  },
  {
   "cell_type": "code",
   "execution_count": 16,
   "id": "4c30f8e6",
   "metadata": {},
   "outputs": [],
   "source": [
    "def performance_checker(func):\n",
    "    def wrapper(*args,**kwargs):\n",
    "        print(\"checking performance of the function\")\n",
    "        start=time.perf_counter()\n",
    "        print(f\"start time is {start}\")\n",
    "        result=func(*args,**kwargs)\n",
    "        stop=time.perf_counter()\n",
    "        print(f\"stop time is {stop}\")\n",
    "        elapsed_time=stop-start\n",
    "        print(f\"time taken to execute the function is {elapsed_time}\")\n",
    "        return result\n",
    "    return wrapper    "
   ]
  },
  {
   "cell_type": "code",
   "execution_count": 17,
   "id": "4e1b8bbe",
   "metadata": {},
   "outputs": [],
   "source": [
    "@performance_checker\n",
    "def sqr_nums(list_data:list):\n",
    "    sqr_num=[]\n",
    "    for i in list_data:\n",
    "        sqr_num.append(i**2)\n",
    "    return sqr_num    "
   ]
  },
  {
   "cell_type": "code",
   "execution_count": 18,
   "id": "e6d3edd4",
   "metadata": {},
   "outputs": [
    {
     "name": "stdout",
     "output_type": "stream",
     "text": [
      "checking performance of the function\n",
      "start time is 86904.1958803\n",
      "stop time is 86904.1959873\n",
      "time taken to execute the function is 0.00010699999984353781\n"
     ]
    },
    {
     "data": {
      "text/plain": [
       "[4, 9, 16, 25, 36]"
      ]
     },
     "execution_count": 18,
     "metadata": {},
     "output_type": "execute_result"
    }
   ],
   "source": [
    "sqr2=sqr_nums(list_nums)\n",
    "sqr2"
   ]
  },
  {
   "cell_type": "code",
   "execution_count": 19,
   "id": "0866fb7b",
   "metadata": {},
   "outputs": [],
   "source": [
    "@welcome\n",
    "@performance_checker\n",
    "def simple_interest(p,n,r):\n",
    "    return (p*n*r)/100"
   ]
  },
  {
   "cell_type": "code",
   "execution_count": 20,
   "id": "b37dff4b",
   "metadata": {},
   "outputs": [
    {
     "name": "stdout",
     "output_type": "stream",
     "text": [
      "hi welcome to the page.\n",
      "checking performance of the function\n",
      "start time is 86904.3740246\n",
      "stop time is 86904.3740741\n",
      "time taken to execute the function is 4.949999856762588e-05\n",
      "thanku for using this function\n"
     ]
    },
    {
     "data": {
      "text/plain": [
       "384000.0"
      ]
     },
     "execution_count": 20,
     "metadata": {},
     "output_type": "execute_result"
    }
   ],
   "source": [
    "si_in=simple_interest(400000,12,8)\n",
    "si_in"
   ]
  },
  {
   "cell_type": "markdown",
   "id": "07243af4",
   "metadata": {},
   "source": [
    "## Authentication scenario"
   ]
  },
  {
   "cell_type": "markdown",
   "id": "6c887146",
   "metadata": {},
   "source": [
    "## creat a dictionary containing username as key and apssword as values"
   ]
  },
  {
   "cell_type": "code",
   "execution_count": 21,
   "id": "3784de2e",
   "metadata": {},
   "outputs": [],
   "source": [
    "users={\n",
    "    \"Thaman\":\"th#aman23\",\n",
    "    \"Suman\":\"su@man65\",\n",
    "    \"Raman\":\"ra%@man12\",\n",
    "    \"Baman\":\"bama&n54\"\n",
    "}"
   ]
  },
  {
   "cell_type": "code",
   "execution_count": 22,
   "id": "a305b432",
   "metadata": {},
   "outputs": [
    {
     "data": {
      "text/plain": [
       "dict_keys(['Thaman', 'Suman', 'Raman', 'Baman'])"
      ]
     },
     "execution_count": 22,
     "metadata": {},
     "output_type": "execute_result"
    }
   ],
   "source": [
    "users.keys()"
   ]
  },
  {
   "cell_type": "code",
   "execution_count": 23,
   "id": "e48eab3f",
   "metadata": {},
   "outputs": [
    {
     "data": {
      "text/plain": [
       "dict_values(['th#aman23', 'su@man65', 'ra%@man12', 'bama&n54'])"
      ]
     },
     "execution_count": 23,
     "metadata": {},
     "output_type": "execute_result"
    }
   ],
   "source": [
    "users.values()"
   ]
  },
  {
   "cell_type": "code",
   "execution_count": 24,
   "id": "42c274fa",
   "metadata": {},
   "outputs": [
    {
     "data": {
      "text/plain": [
       "'bama&n54'"
      ]
     },
     "execution_count": 24,
     "metadata": {},
     "output_type": "execute_result"
    }
   ],
   "source": [
    "users[\"Baman\"]"
   ]
  },
  {
   "cell_type": "code",
   "execution_count": 25,
   "id": "9a9aef5a",
   "metadata": {},
   "outputs": [
    {
     "data": {
      "text/plain": [
       "'bama&n54'"
      ]
     },
     "execution_count": 25,
     "metadata": {},
     "output_type": "execute_result"
    }
   ],
   "source": [
    "users.get(\"Baman\")"
   ]
  },
  {
   "cell_type": "code",
   "execution_count": 26,
   "id": "5dd57faf",
   "metadata": {},
   "outputs": [],
   "source": [
    "def authenticate_user(func):\n",
    "    def wrapper(username,password,*args,**kwargs):\n",
    "        if username in users.keys() and password in users.get(username):\n",
    "            print(f\"welcome {username}. Authentication successful\")\n",
    "            result=func(username,password,*args,**kwargs)\n",
    "            return result\n",
    "        else:\n",
    "            print(\"Authentication is unsuccessful\")\n",
    "    return wrapper        \n",
    "\n",
    "\n"
   ]
  },
  {
   "cell_type": "code",
   "execution_count": 48,
   "id": "cd2fd7bb",
   "metadata": {},
   "outputs": [],
   "source": [
    "@authenticate_user\n",
    "def simple_interest2(username,password,p,n,r):\n",
    "    return (p*n*r)/100"
   ]
  },
  {
   "cell_type": "code",
   "execution_count": 49,
   "id": "7452cd12",
   "metadata": {},
   "outputs": [
    {
     "name": "stdout",
     "output_type": "stream",
     "text": [
      "welcome Thaman. Authentication successful\n"
     ]
    },
    {
     "data": {
      "text/plain": [
       "16800.0"
      ]
     },
     "execution_count": 49,
     "metadata": {},
     "output_type": "execute_result"
    }
   ],
   "source": [
    "si1=simple_interest2(\"Thaman\",\"th#aman23\",35000,6,8)\n",
    "si1"
   ]
  },
  {
   "cell_type": "code",
   "execution_count": 50,
   "id": "2d45ce9e",
   "metadata": {},
   "outputs": [
    {
     "name": "stdout",
     "output_type": "stream",
     "text": [
      "Authentication is unsuccessful\n",
      "None\n"
     ]
    }
   ],
   "source": [
    "si3=simple_interest2(\"Suman\",\"su#man12\",260000,3,5)\n",
    "print(si3)"
   ]
  },
  {
   "cell_type": "code",
   "execution_count": 31,
   "id": "e02dfb8a",
   "metadata": {},
   "outputs": [],
   "source": [
    "customers={\n",
    "    \"Ravi\":\"ra@vi12\",\n",
    "    \"Suman\":\"su%$@34\",\n",
    "    \"Geeta\":\"gee&%ta76\",\n",
    "    \"Baman\":\"ba#@man\"\n",
    "}"
   ]
  },
  {
   "cell_type": "code",
   "execution_count": 32,
   "id": "f02c8704",
   "metadata": {},
   "outputs": [
    {
     "data": {
      "text/plain": [
       "{'Ravi': 'ra@vi12',\n",
       " 'Suman': 'su%$@34',\n",
       " 'Geeta': 'gee&%ta76',\n",
       " 'Baman': 'ba#@man'}"
      ]
     },
     "execution_count": 32,
     "metadata": {},
     "output_type": "execute_result"
    }
   ],
   "source": [
    "customers"
   ]
  },
  {
   "cell_type": "code",
   "execution_count": 33,
   "id": "4919d070",
   "metadata": {},
   "outputs": [
    {
     "data": {
      "text/plain": [
       "'gee&%ta76'"
      ]
     },
     "execution_count": 33,
     "metadata": {},
     "output_type": "execute_result"
    }
   ],
   "source": [
    "customers.get(\"Geeta\")"
   ]
  },
  {
   "cell_type": "code",
   "execution_count": 34,
   "id": "8fcd3554",
   "metadata": {},
   "outputs": [
    {
     "data": {
      "text/plain": [
       "dict_keys(['Ravi', 'Suman', 'Geeta', 'Baman'])"
      ]
     },
     "execution_count": 34,
     "metadata": {},
     "output_type": "execute_result"
    }
   ],
   "source": [
    "customers.keys()"
   ]
  },
  {
   "cell_type": "code",
   "execution_count": 56,
   "id": "5382343c",
   "metadata": {},
   "outputs": [],
   "source": [
    "def autheticate_customer(func):\n",
    "    def wrapper(name,password,*args,**kwargs):\n",
    "        if name in customers.keys() and password in customers.get(name):\n",
    "            print(f\"Hi {name}.Authentication is successfull\")\n",
    "            result=func(name,password,*args,**kwargs)\n",
    "            return result\n",
    "        else:\n",
    "            print(\"Authentication is unsuccessful\")\n",
    "    return wrapper    \n"
   ]
  },
  {
   "cell_type": "code",
   "execution_count": 57,
   "id": "78447329",
   "metadata": {},
   "outputs": [],
   "source": [
    "@autheticate_customer\n",
    "def add_numbers(name,password,x,y):\n",
    "    add=x+y\n",
    "    return add\n"
   ]
  },
  {
   "cell_type": "code",
   "execution_count": 58,
   "id": "c5e8d129",
   "metadata": {},
   "outputs": [
    {
     "name": "stdout",
     "output_type": "stream",
     "text": [
      "Authentication is unsuccessful\n"
     ]
    }
   ],
   "source": [
    "add3=add_numbers(\"Suman\",\"su$#12\",34,45)\n",
    "add3"
   ]
  },
  {
   "cell_type": "code",
   "execution_count": 60,
   "id": "92950096",
   "metadata": {},
   "outputs": [
    {
     "name": "stdout",
     "output_type": "stream",
     "text": [
      "Hi Baman.Authentication is successfull\n"
     ]
    },
    {
     "data": {
      "text/plain": [
       "68"
      ]
     },
     "execution_count": 60,
     "metadata": {},
     "output_type": "execute_result"
    }
   ],
   "source": [
    "add4=add_numbers(\"Baman\",\"ba#@man\",12,56)\n",
    "add4"
   ]
  },
  {
   "cell_type": "code",
   "execution_count": null,
   "id": "7f9a238f",
   "metadata": {},
   "outputs": [],
   "source": []
  }
 ],
 "metadata": {
  "kernelspec": {
   "display_name": "venv",
   "language": "python",
   "name": "python3"
  },
  "language_info": {
   "codemirror_mode": {
    "name": "ipython",
    "version": 3
   },
   "file_extension": ".py",
   "mimetype": "text/x-python",
   "name": "python",
   "nbconvert_exporter": "python",
   "pygments_lexer": "ipython3",
   "version": "3.13.7"
  }
 },
 "nbformat": 4,
 "nbformat_minor": 5
}
