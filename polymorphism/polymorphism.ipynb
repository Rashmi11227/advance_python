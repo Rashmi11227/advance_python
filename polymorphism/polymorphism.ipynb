{
 "cells": [
  {
   "cell_type": "markdown",
   "id": "6972eb1a",
   "metadata": {},
   "source": [
    "## Polymorphism"
   ]
  },
  {
   "cell_type": "code",
   "execution_count": 10,
   "id": "0a0af903",
   "metadata": {},
   "outputs": [],
   "source": [
    "name=\"raman\"\n",
    "emp_data=[101,\"suman\",\"suman@gmail.com\",\"IT\",42000]\n",
    "emp_dept={\n",
    "    \"HR\":[101,102,103,104],\n",
    "    \"sales\":[201,202,203,204],\n",
    "    \"IT\":[301,302,303,304,305]\n",
    "}"
   ]
  },
  {
   "cell_type": "code",
   "execution_count": 11,
   "id": "537e65ca",
   "metadata": {},
   "outputs": [
    {
     "data": {
      "text/plain": [
       "'raman'"
      ]
     },
     "execution_count": 11,
     "metadata": {},
     "output_type": "execute_result"
    }
   ],
   "source": [
    "name"
   ]
  },
  {
   "cell_type": "code",
   "execution_count": 12,
   "id": "d96f57fb",
   "metadata": {},
   "outputs": [
    {
     "data": {
      "text/plain": [
       "5"
      ]
     },
     "execution_count": 12,
     "metadata": {},
     "output_type": "execute_result"
    }
   ],
   "source": [
    "## number of character present in the string\n",
    "len(name)"
   ]
  },
  {
   "cell_type": "code",
   "execution_count": 13,
   "id": "49ec07cb",
   "metadata": {},
   "outputs": [
    {
     "data": {
      "text/plain": [
       "5"
      ]
     },
     "execution_count": 13,
     "metadata": {},
     "output_type": "execute_result"
    }
   ],
   "source": [
    "## number of elements present in the list\n",
    "len(emp_data)"
   ]
  },
  {
   "cell_type": "code",
   "execution_count": 14,
   "id": "7d6690a4",
   "metadata": {},
   "outputs": [
    {
     "data": {
      "text/plain": [
       "3"
      ]
     },
     "execution_count": 14,
     "metadata": {},
     "output_type": "execute_result"
    }
   ],
   "source": [
    "## number of keys present in the dic\n",
    "len(emp_dept)"
   ]
  },
  {
   "cell_type": "markdown",
   "id": "0f6f90c3",
   "metadata": {},
   "source": [
    "## user defined polymorphism scenario\n"
   ]
  },
  {
   "cell_type": "code",
   "execution_count": 15,
   "id": "8bf93c76",
   "metadata": {},
   "outputs": [],
   "source": [
    "class INDIA:\n",
    "    def __init__(self):\n",
    "        pass\n",
    "    \n",
    "    def capital(self):\n",
    "        print(\"Delhi is the capital of INDIA\")\n",
    "\n",
    "    def language(self):\n",
    "        print(\"Hindi & English are widely spoken laguages in INDIA\")"
   ]
  },
  {
   "cell_type": "code",
   "execution_count": 16,
   "id": "7852ba57",
   "metadata": {},
   "outputs": [],
   "source": [
    "class USA:\n",
    "    def __init__(self):\n",
    "        pass\n",
    "    def capital(self):\n",
    "        print(\"Washinghton DC is the capital of INDIA\")\n",
    "    def language(self):\n",
    "        print(\"English is the widely spoken laguages in USA\")\n",
    "        "
   ]
  },
  {
   "cell_type": "code",
   "execution_count": 17,
   "id": "8366884a",
   "metadata": {},
   "outputs": [],
   "source": [
    "ctry1=INDIA()\n",
    "ctry2=USA()"
   ]
  },
  {
   "cell_type": "code",
   "execution_count": 18,
   "id": "91571396",
   "metadata": {},
   "outputs": [
    {
     "name": "stdout",
     "output_type": "stream",
     "text": [
      "Delhi is the capital of INDIA\n"
     ]
    }
   ],
   "source": [
    "ctry1.capital()"
   ]
  },
  {
   "cell_type": "code",
   "execution_count": 19,
   "id": "3f591578",
   "metadata": {},
   "outputs": [
    {
     "name": "stdout",
     "output_type": "stream",
     "text": [
      "Hindi & English are widely spoken laguages in INDIA\n"
     ]
    }
   ],
   "source": [
    "ctry1.language()"
   ]
  },
  {
   "cell_type": "code",
   "execution_count": 20,
   "id": "bee31a38",
   "metadata": {},
   "outputs": [
    {
     "name": "stdout",
     "output_type": "stream",
     "text": [
      "Washinghton DC is the capital of INDIA\n"
     ]
    }
   ],
   "source": [
    "ctry2.capital()"
   ]
  },
  {
   "cell_type": "code",
   "execution_count": 22,
   "id": "c748c41d",
   "metadata": {},
   "outputs": [
    {
     "name": "stdout",
     "output_type": "stream",
     "text": [
      "English is the widely spoken laguages in USA\n"
     ]
    }
   ],
   "source": [
    "ctry2.language()"
   ]
  },
  {
   "cell_type": "code",
   "execution_count": null,
   "id": "cb07606b",
   "metadata": {},
   "outputs": [],
   "source": []
  }
 ],
 "metadata": {
  "kernelspec": {
   "display_name": "venv",
   "language": "python",
   "name": "python3"
  },
  "language_info": {
   "codemirror_mode": {
    "name": "ipython",
    "version": 3
   },
   "file_extension": ".py",
   "mimetype": "text/x-python",
   "name": "python",
   "nbconvert_exporter": "python",
   "pygments_lexer": "ipython3",
   "version": "3.13.7"
  }
 },
 "nbformat": 4,
 "nbformat_minor": 5
}
