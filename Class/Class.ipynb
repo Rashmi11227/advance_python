{
 "cells": [
  {
   "cell_type": "markdown",
   "id": "06914304",
   "metadata": {},
   "source": [
    "# Class"
   ]
  },
  {
   "cell_type": "code",
   "execution_count": 4,
   "id": "16aedb78",
   "metadata": {},
   "outputs": [],
   "source": [
    "import pandas as pd"
   ]
  },
  {
   "cell_type": "code",
   "execution_count": 5,
   "id": "93deb966",
   "metadata": {},
   "outputs": [
    {
     "name": "stdout",
     "output_type": "stream",
     "text": [
      "C:\\Users\\Admin\\Desktop\\python data frame\\50_Startups (1).csv\n"
     ]
    }
   ],
   "source": [
    "path=r\"C:\\Users\\Admin\\Desktop\\python data frame\\50_Startups (1).csv\"\n",
    "print(path)"
   ]
  },
  {
   "cell_type": "code",
   "execution_count": 6,
   "id": "9b6578ee",
   "metadata": {},
   "outputs": [],
   "source": [
    "df=pd.read_csv(path)"
   ]
  },
  {
   "cell_type": "code",
   "execution_count": 6,
   "id": "5bee31d7",
   "metadata": {},
   "outputs": [
    {
     "data": {
      "text/html": [
       "<div>\n",
       "<style scoped>\n",
       "    .dataframe tbody tr th:only-of-type {\n",
       "        vertical-align: middle;\n",
       "    }\n",
       "\n",
       "    .dataframe tbody tr th {\n",
       "        vertical-align: top;\n",
       "    }\n",
       "\n",
       "    .dataframe thead th {\n",
       "        text-align: right;\n",
       "    }\n",
       "</style>\n",
       "<table border=\"1\" class=\"dataframe\">\n",
       "  <thead>\n",
       "    <tr style=\"text-align: right;\">\n",
       "      <th></th>\n",
       "      <th>RND</th>\n",
       "      <th>ADMIN</th>\n",
       "      <th>MKT</th>\n",
       "      <th>STATE</th>\n",
       "      <th>PROFIT</th>\n",
       "    </tr>\n",
       "  </thead>\n",
       "  <tbody>\n",
       "    <tr>\n",
       "      <th>0</th>\n",
       "      <td>165349.20</td>\n",
       "      <td>136897.80</td>\n",
       "      <td>471784.10</td>\n",
       "      <td>New York</td>\n",
       "      <td>192261.83</td>\n",
       "    </tr>\n",
       "    <tr>\n",
       "      <th>1</th>\n",
       "      <td>162597.70</td>\n",
       "      <td>151377.59</td>\n",
       "      <td>443898.53</td>\n",
       "      <td>California</td>\n",
       "      <td>191792.06</td>\n",
       "    </tr>\n",
       "    <tr>\n",
       "      <th>2</th>\n",
       "      <td>153441.51</td>\n",
       "      <td>101145.55</td>\n",
       "      <td>407934.54</td>\n",
       "      <td>Florida</td>\n",
       "      <td>191050.39</td>\n",
       "    </tr>\n",
       "    <tr>\n",
       "      <th>3</th>\n",
       "      <td>144372.41</td>\n",
       "      <td>118671.85</td>\n",
       "      <td>383199.62</td>\n",
       "      <td>New York</td>\n",
       "      <td>182901.99</td>\n",
       "    </tr>\n",
       "    <tr>\n",
       "      <th>4</th>\n",
       "      <td>142107.34</td>\n",
       "      <td>91391.77</td>\n",
       "      <td>366168.42</td>\n",
       "      <td>Florida</td>\n",
       "      <td>166187.94</td>\n",
       "    </tr>\n",
       "  </tbody>\n",
       "</table>\n",
       "</div>"
      ],
      "text/plain": [
       "         RND      ADMIN        MKT       STATE     PROFIT\n",
       "0  165349.20  136897.80  471784.10    New York  192261.83\n",
       "1  162597.70  151377.59  443898.53  California  191792.06\n",
       "2  153441.51  101145.55  407934.54     Florida  191050.39\n",
       "3  144372.41  118671.85  383199.62    New York  182901.99\n",
       "4  142107.34   91391.77  366168.42     Florida  166187.94"
      ]
     },
     "execution_count": 6,
     "metadata": {},
     "output_type": "execute_result"
    }
   ],
   "source": [
    "df.head()"
   ]
  },
  {
   "cell_type": "code",
   "execution_count": 7,
   "id": "440f4232",
   "metadata": {},
   "outputs": [
    {
     "data": {
      "text/plain": [
       "(50, 5)"
      ]
     },
     "execution_count": 7,
     "metadata": {},
     "output_type": "execute_result"
    }
   ],
   "source": [
    "df.shape"
   ]
  },
  {
   "cell_type": "code",
   "execution_count": 9,
   "id": "bc10be2c",
   "metadata": {},
   "outputs": [
    {
     "name": "stdout",
     "output_type": "stream",
     "text": [
      "<class 'pandas.core.frame.DataFrame'>\n",
      "RangeIndex: 50 entries, 0 to 49\n",
      "Data columns (total 5 columns):\n",
      " #   Column  Non-Null Count  Dtype  \n",
      "---  ------  --------------  -----  \n",
      " 0   RND     50 non-null     float64\n",
      " 1   ADMIN   50 non-null     float64\n",
      " 2   MKT     50 non-null     float64\n",
      " 3   STATE   50 non-null     object \n",
      " 4   PROFIT  50 non-null     float64\n",
      "dtypes: float64(4), object(1)\n",
      "memory usage: 2.1+ KB\n"
     ]
    }
   ],
   "source": [
    "df.info()"
   ]
  },
  {
   "cell_type": "code",
   "execution_count": null,
   "id": "da43bd64",
   "metadata": {},
   "outputs": [
    {
     "data": {
      "text/plain": [
       "Index(['RND', 'ADMIN', 'MKT', 'STATE', 'PROFIT'], dtype='object')"
      ]
     },
     "execution_count": 10,
     "metadata": {},
     "output_type": "execute_result"
    }
   ],
   "source": [
    "df.columns"
   ]
  },
  {
   "cell_type": "code",
   "execution_count": 11,
   "id": "401f2699",
   "metadata": {},
   "outputs": [
    {
     "data": {
      "text/plain": [
       "array(['New York', 'California', 'Florida'], dtype=object)"
      ]
     },
     "execution_count": 11,
     "metadata": {},
     "output_type": "execute_result"
    }
   ],
   "source": [
    "df[\"STATE\"].unique()"
   ]
  },
  {
   "cell_type": "code",
   "execution_count": 13,
   "id": "675ad8f8",
   "metadata": {},
   "outputs": [
    {
     "data": {
      "text/plain": [
       "STATE\n",
       "New York      17\n",
       "California    17\n",
       "Florida       16\n",
       "Name: count, dtype: int64"
      ]
     },
     "execution_count": 13,
     "metadata": {},
     "output_type": "execute_result"
    }
   ],
   "source": [
    "df[\"STATE\"].value_counts()"
   ]
  },
  {
   "cell_type": "markdown",
   "id": "c193cb6e",
   "metadata": {},
   "source": [
    "## creat a class person and defines its attributes and methods"
   ]
  },
  {
   "cell_type": "code",
   "execution_count": 9,
   "id": "5c46b9a0",
   "metadata": {},
   "outputs": [],
   "source": [
    "class person:\n",
    "    def __init__(self,name,age,accupation,stay):\n",
    "        self.name=name\n",
    "        self.age=age\n",
    "        self.accupation=accupation\n",
    "        self.stay=stay\n",
    "    def talk(self):\n",
    "        print(f\"Hi myself {self.name}.I'am {self.age} years old\")\n",
    "        print(f\"I live in {self.stay}\")\n",
    "        print(f\"I work at {self.accupation}\")\n",
    "    def work(self,n):\n",
    "        print(f\"I work at {self.accupation}\")\n",
    "        print(f\"Its been {n} years since am working at this company\")    "
   ]
  },
  {
   "cell_type": "code",
   "execution_count": 10,
   "id": "0546d671",
   "metadata": {},
   "outputs": [],
   "source": [
    "p1=person(name=\"Raman\",age=35,stay=\"pune\",accupation=\"IT Engineer\")"
   ]
  },
  {
   "cell_type": "code",
   "execution_count": 11,
   "id": "9155032f",
   "metadata": {},
   "outputs": [
    {
     "data": {
      "text/plain": [
       "35"
      ]
     },
     "execution_count": 11,
     "metadata": {},
     "output_type": "execute_result"
    }
   ],
   "source": [
    "p1.age"
   ]
  },
  {
   "cell_type": "code",
   "execution_count": 4,
   "id": "986a0950",
   "metadata": {},
   "outputs": [
    {
     "data": {
      "text/plain": [
       "'Raman'"
      ]
     },
     "execution_count": 4,
     "metadata": {},
     "output_type": "execute_result"
    }
   ],
   "source": [
    "p1.name"
   ]
  },
  {
   "cell_type": "code",
   "execution_count": 5,
   "id": "94b407a3",
   "metadata": {},
   "outputs": [
    {
     "name": "stdout",
     "output_type": "stream",
     "text": [
      "Hi myself Raman.I'am 35 years old\n",
      "I live in pune\n",
      "I work at IT Engineer\n"
     ]
    }
   ],
   "source": [
    "p1.talk()"
   ]
  },
  {
   "cell_type": "code",
   "execution_count": 12,
   "id": "ea74fb2d",
   "metadata": {},
   "outputs": [
    {
     "name": "stdout",
     "output_type": "stream",
     "text": [
      "I work at IT Engineer\n",
      "Its been 4 years since am working at this company\n"
     ]
    }
   ],
   "source": [
    "p1.work(4)"
   ]
  },
  {
   "cell_type": "code",
   "execution_count": 13,
   "id": "e63bf20e",
   "metadata": {},
   "outputs": [],
   "source": [
    "class cake:\n",
    "    def __init__(self,cakename,theme,occasion):\n",
    "        self.cakename=cakename\n",
    "        self.theme=theme\n",
    "        self.occasion=occasion\n",
    "\n",
    "    def talk(self):\n",
    "        print(f\"Hi today is my {self.occasion}.please bake {self.cakename} and theme is {self.theme}\")\n",
    "        "
   ]
  },
  {
   "cell_type": "code",
   "execution_count": 14,
   "id": "b609c3fe",
   "metadata": {},
   "outputs": [],
   "source": [
    "cake1=cake(cakename=\"blueberry\",theme=\"Spiderman\",occasion=\"Birthday\")"
   ]
  },
  {
   "cell_type": "code",
   "execution_count": 15,
   "id": "e210da38",
   "metadata": {},
   "outputs": [
    {
     "data": {
      "text/plain": [
       "'blueberry'"
      ]
     },
     "execution_count": 15,
     "metadata": {},
     "output_type": "execute_result"
    }
   ],
   "source": [
    "cake1.cakename"
   ]
  },
  {
   "cell_type": "code",
   "execution_count": 16,
   "id": "0111a870",
   "metadata": {},
   "outputs": [
    {
     "name": "stdout",
     "output_type": "stream",
     "text": [
      "Hi today is my Birthday.please bake blueberry and theme is Spiderman\n"
     ]
    }
   ],
   "source": [
    "cake1.talk()"
   ]
  },
  {
   "cell_type": "markdown",
   "id": "9c051e4a",
   "metadata": {},
   "source": [
    "### creat a class bank that contains attributes like accountnumber,name,balance defines different methods like withdrawal,deposite,tranfer"
   ]
  },
  {
   "cell_type": "code",
   "execution_count": 2,
   "id": "41a0f44d",
   "metadata": {},
   "outputs": [],
   "source": [
    "class etl_bank:\n",
    "    def __init__(self,account_number,account_name,balance):\n",
    "        self.account_number=account_number\n",
    "        self.account_name=account_name\n",
    "        self.balance=balance\n",
    "\n",
    "     # creat a method that performs withdrawal action\n",
    "    def withdrawal(self,amount):\n",
    "        if amount<self.balance:\n",
    "           self.balance=self.balance-amount\n",
    "           return f\"amount withdrawn is {amount}. and your updated balance is {self.balance}\"\n",
    "        else:\n",
    "            return f\"you dont have sufficient balance\"\n",
    "\n",
    "    # creat a method that performs deposit action\n",
    "    def deposit(self,deposit_amount):\n",
    "        self.balance=self.balance+deposit_amount\n",
    "        return f\"Amount deposited is {deposit_amount}.and your updated balance is {self.balance}\"\n",
    "\n",
    "    # creat a method that transfer the amount to another acc\n",
    "    def transfer(self,transfer_amount,acc_num):\n",
    "        self.balance=self.balance-transfer_amount\n",
    "        return f\"Amount being transfered is {transfer_amount} to {acc_num}.and your updated balance is{self.balance}\"   \n",
    "        "
   ]
  },
  {
   "cell_type": "code",
   "execution_count": 34,
   "id": "da1fa88d",
   "metadata": {},
   "outputs": [],
   "source": [
    "bank1=etl_bank(account_number=12657687,account_name=\"Rashmi\",balance=3000000)"
   ]
  },
  {
   "cell_type": "code",
   "execution_count": 19,
   "id": "0d7f8f90",
   "metadata": {},
   "outputs": [
    {
     "data": {
      "text/plain": [
       "'Rashmi'"
      ]
     },
     "execution_count": 19,
     "metadata": {},
     "output_type": "execute_result"
    }
   ],
   "source": [
    "bank1.account_name"
   ]
  },
  {
   "cell_type": "code",
   "execution_count": 29,
   "id": "aac558cf",
   "metadata": {},
   "outputs": [
    {
     "data": {
      "text/plain": [
       "'amount withdrawn is 100000. and your updated balance is 2900000'"
      ]
     },
     "execution_count": 29,
     "metadata": {},
     "output_type": "execute_result"
    }
   ],
   "source": [
    "bank1.withdrawal(100000)"
   ]
  },
  {
   "cell_type": "code",
   "execution_count": 30,
   "metadata": {},
   "outputs": [
    {
     "data": {
      "text/plain": [
       "'Amount deposited is 100000.and your updated balance is 3000000'"
      ]
     },
     "execution_count": 30,
     "metadata": {},
     "output_type": "execute_result"
    }
   ],
   "source": [
    "bank1.deposit(100000)"
   ]
  },
  {
   "cell_type": "code",
   "execution_count": 35,
   "id": "49a89845",
   "metadata": {},
   "outputs": [
    {
     "data": {
      "text/plain": [
       "'Amount being transfered is 1000000 to 2389769876.and your updated balance is2000000'"
      ]
     },
     "execution_count": 35,
     "metadata": {},
     "output_type": "execute_result"
    }
   ],
   "source": [
    "bank1.transfer(1000000,2389769876)"
   ]
  },
  {
   "cell_type": "code",
   "execution_count": 37,
   "id": "2b26a673",
   "metadata": {},
   "outputs": [],
   "source": [
    "bank2=etl_bank(account_number=78654312,account_name=\"Rohit\",balance=200000)"
   ]
  },
  {
   "cell_type": "code",
   "execution_count": 38,
   "id": "e21025ad",
   "metadata": {},
   "outputs": [
    {
     "data": {
      "text/plain": [
       "'Rohit'"
      ]
     },
     "execution_count": 38,
     "metadata": {},
     "output_type": "execute_result"
    }
   ],
   "source": [
    "bank2.account_name"
   ]
  },
  {
   "cell_type": "code",
   "execution_count": 39,
   "id": "3af6e597",
   "metadata": {},
   "outputs": [
    {
     "data": {
      "text/plain": [
       "'you dont have sufficient balance'"
      ]
     },
     "execution_count": 39,
     "metadata": {},
     "output_type": "execute_result"
    }
   ],
   "source": [
    "bank2.withdrawal(300000)"
   ]
  },
  {
   "cell_type": "code",
   "execution_count": 3,
   "id": "8954f362",
   "metadata": {},
   "outputs": [],
   "source": [
    "bank2=etl_bank(account_number=76489356,account_name=\"Rohit\",balance=500000)"
   ]
  },
  {
   "cell_type": "code",
   "execution_count": 4,
   "id": "8e5ae21c",
   "metadata": {},
   "outputs": [
    {
     "data": {
      "text/plain": [
       "'Rohit'"
      ]
     },
     "execution_count": 4,
     "metadata": {},
     "output_type": "execute_result"
    }
   ],
   "source": [
    "bank2.account_name"
   ]
  },
  {
   "cell_type": "code",
   "execution_count": 6,
   "id": "b796359a",
   "metadata": {},
   "outputs": [
    {
     "data": {
      "text/plain": [
       "76489356"
      ]
     },
     "execution_count": 6,
     "metadata": {},
     "output_type": "execute_result"
    }
   ],
   "source": [
    "bank2.account_number"
   ]
  },
  {
   "cell_type": "code",
   "execution_count": 7,
   "id": "8d5529bf",
   "metadata": {},
   "outputs": [
    {
     "data": {
      "text/plain": [
       "500000"
      ]
     },
     "execution_count": 7,
     "metadata": {},
     "output_type": "execute_result"
    }
   ],
   "source": [
    "bank2.balance"
   ]
  },
  {
   "cell_type": "code",
   "execution_count": 9,
   "id": "dd3adb51",
   "metadata": {},
   "outputs": [
    {
     "data": {
      "text/plain": [
       "'Amount deposited is 200000.and your updated balance is 700000'"
      ]
     },
     "execution_count": 9,
     "metadata": {},
     "output_type": "execute_result"
    }
   ],
   "source": [
    "bank2.deposit(200000)"
   ]
  },
  {
   "cell_type": "code",
   "execution_count": 10,
   "id": "1f87bfab",
   "metadata": {},
   "outputs": [
    {
     "data": {
      "text/plain": [
       "'amount withdrawn is 100000. and your updated balance is 600000'"
      ]
     },
     "execution_count": 10,
     "metadata": {},
     "output_type": "execute_result"
    }
   ],
   "source": [
    "bank2.withdrawal(100000)"
   ]
  },
  {
   "cell_type": "code",
   "execution_count": 11,
   "id": "533785cd",
   "metadata": {},
   "outputs": [
    {
     "data": {
      "text/plain": [
       "'Amount being transfered is 200000 to 7645425561.and your updated balance is400000'"
      ]
     },
     "execution_count": 11,
     "metadata": {},
     "output_type": "execute_result"
    }
   ],
   "source": [
    "bank2.transfer(200000,7645425561)"
   ]
  },
  {
   "cell_type": "code",
   "execution_count": 25,
   "id": "17374abc",
   "metadata": {},
   "outputs": [],
   "source": [
    "class student_preprimary():\n",
    "    # define the class attributes\n",
    "    sectiona=45\n",
    "    sectionb=65\n",
    "    class_teacher_a=\"priya\"\n",
    "    class_teacher_b=\"riya\" \n",
    "    @classmethod\n",
    "    def welcome(cls):\n",
    "        print(f\"welcome to this school.we have 2 sections {cls.sectiona} & {cls.sectionb}\")"
   ]
  },
  {
   "cell_type": "code",
   "execution_count": 13,
   "id": "8fe37572",
   "metadata": {},
   "outputs": [
    {
     "data": {
      "text/plain": [
       "'priya'"
      ]
     },
     "execution_count": 13,
     "metadata": {},
     "output_type": "execute_result"
    }
   ],
   "source": [
    "student_preprimary.class_teacher_a"
   ]
  },
  {
   "cell_type": "code",
   "execution_count": 14,
   "id": "bf4b4f81",
   "metadata": {},
   "outputs": [
    {
     "data": {
      "text/plain": [
       "45"
      ]
     },
     "execution_count": 14,
     "metadata": {},
     "output_type": "execute_result"
    }
   ],
   "source": [
    "student_preprimary.sectiona"
   ]
  },
  {
   "cell_type": "code",
   "execution_count": 17,
   "id": "32764942",
   "metadata": {},
   "outputs": [],
   "source": [
    "student1=student_preprimary\n",
    "student2=student_preprimary"
   ]
  },
  {
   "cell_type": "code",
   "execution_count": 26,
   "id": "f2983818",
   "metadata": {},
   "outputs": [],
   "source": [
    "student3=student_preprimary"
   ]
  },
  {
   "cell_type": "code",
   "execution_count": 27,
   "id": "e1cbf227",
   "metadata": {},
   "outputs": [
    {
     "name": "stdout",
     "output_type": "stream",
     "text": [
      "welcome to this school.we have 2 sections 45 & 65\n"
     ]
    }
   ],
   "source": [
    "student3.welcome()"
   ]
  },
  {
   "cell_type": "code",
   "execution_count": 7,
   "id": "81313a50",
   "metadata": {},
   "outputs": [],
   "source": [
    "class employee_data():\n",
    "    department=\"IT\"\n",
    "    employee_count=50\n",
    "    @classmethod\n",
    "    def welcome(cls):\n",
    "        print(f\"Iam working in {cls.department} and employee count is {cls.employee_count}\")\n"
   ]
  },
  {
   "cell_type": "code",
   "execution_count": 8,
   "id": "66e1853b",
   "metadata": {},
   "outputs": [],
   "source": [
    "company1=employee_data"
   ]
  },
  {
   "cell_type": "code",
   "execution_count": 9,
   "id": "4da15ad6",
   "metadata": {},
   "outputs": [
    {
     "data": {
      "text/plain": [
       "'IT'"
      ]
     },
     "execution_count": 9,
     "metadata": {},
     "output_type": "execute_result"
    }
   ],
   "source": [
    "company1.department"
   ]
  },
  {
   "cell_type": "code",
   "execution_count": 10,
   "id": "ec3bb405",
   "metadata": {},
   "outputs": [
    {
     "data": {
      "text/plain": [
       "50"
      ]
     },
     "execution_count": 10,
     "metadata": {},
     "output_type": "execute_result"
    }
   ],
   "source": [
    "company1.employee_count"
   ]
  },
  {
   "cell_type": "code",
   "execution_count": 11,
   "id": "f2b459a1",
   "metadata": {},
   "outputs": [
    {
     "name": "stdout",
     "output_type": "stream",
     "text": [
      "Iam working in IT and employee count is 50\n"
     ]
    }
   ],
   "source": [
    "company1.welcome()"
   ]
  },
  {
   "cell_type": "code",
   "execution_count": 12,
   "id": "d07e08cd",
   "metadata": {},
   "outputs": [],
   "source": [
    "class cars:\n",
    "    # class attributes\n",
    "    greeting=\"Welcome to our showroom.please explore our car models\"\n",
    "    # define instance attributes\n",
    "    def __init__(self,manufacturer,price):\n",
    "        self.manufacturer=manufacturer\n",
    "        self.price=price\n",
    "    def hyundai_model_info(self):\n",
    "        return f\"we sell different models for this manufacturer like i20,i10\"\n",
    "    def maruti_model_info(self):\n",
    "        return f\"we sell different models for this manufacturer like nexa baleno,swift\"\n",
    "    @classmethod\n",
    "    def welcome (cls):\n",
    "        print(cls.greeting)\n",
    "\n",
    "\n",
    "        "
   ]
  },
  {
   "cell_type": "code",
   "execution_count": 14,
   "id": "513acfc6",
   "metadata": {},
   "outputs": [],
   "source": [
    "enquiry1=cars(manufacturer='hyundai',price=100000)"
   ]
  },
  {
   "cell_type": "code",
   "execution_count": 15,
   "id": "7312459d",
   "metadata": {},
   "outputs": [
    {
     "data": {
      "text/plain": [
       "'hyundai'"
      ]
     },
     "execution_count": 15,
     "metadata": {},
     "output_type": "execute_result"
    }
   ],
   "source": [
    "enquiry1.manufacturer"
   ]
  },
  {
   "cell_type": "code",
   "execution_count": 16,
   "id": "90f734ff",
   "metadata": {},
   "outputs": [
    {
     "data": {
      "text/plain": [
       "100000"
      ]
     },
     "execution_count": 16,
     "metadata": {},
     "output_type": "execute_result"
    }
   ],
   "source": [
    "enquiry1.price"
   ]
  },
  {
   "cell_type": "code",
   "execution_count": 17,
   "id": "8abe63e9",
   "metadata": {},
   "outputs": [
    {
     "data": {
      "text/plain": [
       "'Welcome to our showroom.please explore our car models'"
      ]
     },
     "execution_count": 17,
     "metadata": {},
     "output_type": "execute_result"
    }
   ],
   "source": [
    "enquiry1.greeting"
   ]
  },
  {
   "cell_type": "code",
   "execution_count": 18,
   "id": "314d1169",
   "metadata": {},
   "outputs": [
    {
     "data": {
      "text/plain": [
       "'we sell different models for this manufacturer like i20,i10'"
      ]
     },
     "execution_count": 18,
     "metadata": {},
     "output_type": "execute_result"
    }
   ],
   "source": [
    "enquiry1.hyundai_model_info()"
   ]
  },
  {
   "cell_type": "code",
   "execution_count": 19,
   "id": "bba2e36c",
   "metadata": {},
   "outputs": [
    {
     "data": {
      "text/plain": [
       "'we sell different models for this manufacturer like nexa baleno,swift'"
      ]
     },
     "execution_count": 19,
     "metadata": {},
     "output_type": "execute_result"
    }
   ],
   "source": [
    "enquiry1.maruti_model_info()"
   ]
  },
  {
   "cell_type": "code",
   "execution_count": null,
   "id": "10c1eb91",
   "metadata": {},
   "outputs": [],
   "source": []
  }
 ],
 "metadata": {
  "kernelspec": {
   "display_name": "venv",
   "language": "python",
   "name": "python3"
  },
  "language_info": {
   "codemirror_mode": {
    "name": "ipython",
    "version": 3
   },
   "file_extension": ".py",
   "mimetype": "text/x-python",
   "name": "python",
   "nbconvert_exporter": "python",
   "pygments_lexer": "ipython3",
   "version": "3.13.7"
  }
 },
 "nbformat": 4,
 "nbformat_minor": 5
}
