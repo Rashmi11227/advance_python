{
 "cells": [
  {
   "cell_type": "markdown",
   "id": "50e1a922",
   "metadata": {},
   "source": [
    "## variadic functions"
   ]
  },
  {
   "cell_type": "code",
   "execution_count": 1,
   "id": "ee88ae22",
   "metadata": {},
   "outputs": [],
   "source": [
    "def add_num(x:int,y:int):\n",
    "    \"\"\"\n",
    "    take two numbers as input\n",
    "    return addition of two numbers\n",
    "    \"\"\"\n",
    "    z=x+y\n",
    "    return z\n"
   ]
  },
  {
   "cell_type": "code",
   "execution_count": 2,
   "id": "ccc812ca",
   "metadata": {},
   "outputs": [
    {
     "name": "stdout",
     "output_type": "stream",
     "text": [
      "output of addition is 35\n"
     ]
    }
   ],
   "source": [
    "add=add_num(12,23)\n",
    "print(f\"output of addition is {add}\")"
   ]
  },
  {
   "cell_type": "code",
   "execution_count": 3,
   "id": "74fe9188",
   "metadata": {},
   "outputs": [],
   "source": [
    "def add(*args):\n",
    "    for i in args:\n",
    "        print(i)\n"
   ]
  },
  {
   "cell_type": "code",
   "execution_count": 4,
   "id": "986f7591",
   "metadata": {},
   "outputs": [
    {
     "name": "stdout",
     "output_type": "stream",
     "text": [
      "12\n",
      "23\n",
      "45\n",
      "12\n"
     ]
    }
   ],
   "source": [
    "add(12,23,45,12)"
   ]
  },
  {
   "cell_type": "code",
   "execution_count": 5,
   "id": "f41cb243",
   "metadata": {},
   "outputs": [],
   "source": [
    "def add1(*args):\n",
    "    s=0\n",
    "    for i in args:\n",
    "        s=s+i\n",
    "    return s"
   ]
  },
  {
   "cell_type": "code",
   "execution_count": 6,
   "id": "43696e89",
   "metadata": {},
   "outputs": [
    {
     "data": {
      "text/plain": [
       "114"
      ]
     },
     "execution_count": 6,
     "metadata": {},
     "output_type": "execute_result"
    }
   ],
   "source": [
    "addition=add1(12,23,34,45)\n",
    "addition"
   ]
  },
  {
   "cell_type": "code",
   "execution_count": 7,
   "id": "0a4cec8c",
   "metadata": {},
   "outputs": [
    {
     "data": {
      "text/plain": [
       "10"
      ]
     },
     "execution_count": 7,
     "metadata": {},
     "output_type": "execute_result"
    }
   ],
   "source": [
    "add2=add1(1,2,3,4)\n",
    "add2"
   ]
  },
  {
   "cell_type": "code",
   "execution_count": 8,
   "id": "3c719854",
   "metadata": {},
   "outputs": [],
   "source": [
    "def multiplcation(*args):\n",
    "    s=1\n",
    "    for i in args:\n",
    "        s=s*i\n",
    "    return s"
   ]
  },
  {
   "cell_type": "code",
   "execution_count": 9,
   "id": "375801d9",
   "metadata": {},
   "outputs": [
    {
     "data": {
      "text/plain": [
       "276"
      ]
     },
     "execution_count": 9,
     "metadata": {},
     "output_type": "execute_result"
    }
   ],
   "source": [
    "mul1=multiplcation(12,23)\n",
    "mul1"
   ]
  },
  {
   "cell_type": "code",
   "execution_count": 10,
   "id": "aac765d8",
   "metadata": {},
   "outputs": [],
   "source": [
    "mul2=multiplcation(23,45,56,67)"
   ]
  },
  {
   "cell_type": "code",
   "execution_count": 11,
   "id": "c53b655c",
   "metadata": {},
   "outputs": [
    {
     "data": {
      "text/plain": [
       "3883320"
      ]
     },
     "execution_count": 11,
     "metadata": {},
     "output_type": "execute_result"
    }
   ],
   "source": [
    "mul2"
   ]
  },
  {
   "cell_type": "code",
   "execution_count": 12,
   "id": "cad8cdee",
   "metadata": {},
   "outputs": [],
   "source": [
    "def mul(x,*args):\n",
    "    p=1\n",
    "    for i in args:\n",
    "        p=p*i\n",
    "    return f\"product performed by {x} is {p}\"    "
   ]
  },
  {
   "cell_type": "code",
   "execution_count": 13,
   "id": "b6afdc41",
   "metadata": {},
   "outputs": [
    {
     "data": {
      "text/plain": [
       "'product performed by rashmi is 68'"
      ]
     },
     "execution_count": 13,
     "metadata": {},
     "output_type": "execute_result"
    }
   ],
   "source": [
    "mul3=mul(\"rashmi\",34,2)\n",
    "mul3"
   ]
  },
  {
   "cell_type": "code",
   "execution_count": 14,
   "id": "a690bd66",
   "metadata": {},
   "outputs": [],
   "source": [
    "def multiply(x,*args):\n",
    "    p=1\n",
    "    for i in args:\n",
    "        p=p*i\n",
    "    welcome=f\"welcome {x}\"    \n",
    "    return f\"{welcome}: product of the provided data is {p}\"    "
   ]
  },
  {
   "cell_type": "code",
   "execution_count": 15,
   "id": "6f7e6dc4",
   "metadata": {},
   "outputs": [
    {
     "data": {
      "text/plain": [
       "'welcome Rashmi: product of the provided data is 24'"
      ]
     },
     "execution_count": 15,
     "metadata": {},
     "output_type": "execute_result"
    }
   ],
   "source": [
    "mul4=multiply(\"Rashmi\",12,2)\n",
    "mul4"
   ]
  },
  {
   "cell_type": "markdown",
   "id": "6f970ed3",
   "metadata": {},
   "source": []
  },
  {
   "cell_type": "code",
   "execution_count": 16,
   "id": "f3a8b206",
   "metadata": {},
   "outputs": [],
   "source": [
    "def add2(x,*args):\n",
    "    s=0\n",
    "    for i in args:\n",
    "        s=s+1\n",
    "    welcome=f\"welcome {x}\"\n",
    "    return f\"{welcome}:sum of the provided data is {s}\"    "
   ]
  },
  {
   "cell_type": "code",
   "execution_count": 17,
   "id": "fa6bb50b",
   "metadata": {},
   "outputs": [],
   "source": [
    "addition1=add2(\"Rashmi\",12,23)"
   ]
  },
  {
   "cell_type": "code",
   "execution_count": 18,
   "id": "f1c5b02c",
   "metadata": {},
   "outputs": [
    {
     "name": "stdout",
     "output_type": "stream",
     "text": [
      "welcome Rashmi:sum of the provided data is 2\n"
     ]
    }
   ],
   "source": [
    "print(addition1)"
   ]
  },
  {
   "cell_type": "markdown",
   "id": "c1094311",
   "metadata": {},
   "source": [
    "### scenario:i have a list of data.i want to add a value to each list(append)\n",
    "          emp1=[101,\"raman\"]\n",
    "         emp2=[102,\"thaman\"]\n",
    "          these two are working for IT dep\n",
    "        write a function that takes list as input and appends dep details to both lists"
   ]
  },
  {
   "cell_type": "code",
   "execution_count": 22,
   "id": "a246bfbb",
   "metadata": {},
   "outputs": [],
   "source": [
    "def appendlist(department,*lists):\n",
    "    \"\"\"\n",
    "    take multiple lists as input and append deprtment to each list\n",
    "    \"\"\"\n",
    "    for l in lists:\n",
    "        l.append(department)\n"
   ]
  },
  {
   "cell_type": "code",
   "execution_count": 23,
   "id": "5a6a6a74",
   "metadata": {},
   "outputs": [],
   "source": [
    "emp1=[101,\"raman\"]\n",
    "emp2=[102,\"thamn\"]\n"
   ]
  },
  {
   "cell_type": "code",
   "execution_count": 24,
   "id": "962c16a7",
   "metadata": {},
   "outputs": [],
   "source": [
    "appendlist(\"IT\",emp1,emp2)"
   ]
  },
  {
   "cell_type": "code",
   "execution_count": 25,
   "id": "3bf47559",
   "metadata": {},
   "outputs": [
    {
     "data": {
      "text/plain": [
       "[101, 'raman', 'IT']"
      ]
     },
     "execution_count": 25,
     "metadata": {},
     "output_type": "execute_result"
    }
   ],
   "source": [
    "emp1"
   ]
  },
  {
   "cell_type": "code",
   "execution_count": 26,
   "id": "f406e8a4",
   "metadata": {},
   "outputs": [
    {
     "data": {
      "text/plain": [
       "[102, 'thamn', 'IT']"
      ]
     },
     "execution_count": 26,
     "metadata": {},
     "output_type": "execute_result"
    }
   ],
   "source": [
    "emp2"
   ]
  },
  {
   "cell_type": "code",
   "execution_count": 28,
   "id": "8d3443c9",
   "metadata": {},
   "outputs": [],
   "source": [
    "ab1=[\"raman\",102]\n",
    "ab2=[\"thamn\",103]\n",
    "ab3=[\"suman\",104]\n",
    "ab4=[\"baman\",105]\n",
    "     "
   ]
  },
  {
   "cell_type": "code",
   "execution_count": 29,
   "id": "799f861b",
   "metadata": {},
   "outputs": [],
   "source": [
    "appendlist(\"HR\",ab1,ab2,ab3,ab4)"
   ]
  },
  {
   "cell_type": "code",
   "execution_count": 30,
   "id": "0e29dae6",
   "metadata": {},
   "outputs": [
    {
     "data": {
      "text/plain": [
       "['raman', 102, 'HR']"
      ]
     },
     "execution_count": 30,
     "metadata": {},
     "output_type": "execute_result"
    }
   ],
   "source": [
    "ab1"
   ]
  },
  {
   "cell_type": "code",
   "execution_count": 31,
   "id": "43e47532",
   "metadata": {},
   "outputs": [
    {
     "data": {
      "text/plain": [
       "['thamn', 103, 'HR']"
      ]
     },
     "execution_count": 31,
     "metadata": {},
     "output_type": "execute_result"
    }
   ],
   "source": [
    "ab2"
   ]
  },
  {
   "cell_type": "code",
   "execution_count": 32,
   "id": "b206747f",
   "metadata": {},
   "outputs": [],
   "source": [
    "emp_data=[\"ravi\",102]"
   ]
  },
  {
   "cell_type": "code",
   "execution_count": 33,
   "id": "b2653d01",
   "metadata": {},
   "outputs": [],
   "source": [
    "emp_data.append(\"IT\")"
   ]
  },
  {
   "cell_type": "code",
   "execution_count": 34,
   "id": "ae3753e2",
   "metadata": {},
   "outputs": [
    {
     "data": {
      "text/plain": [
       "['ravi', 102, 'IT']"
      ]
     },
     "execution_count": 34,
     "metadata": {},
     "output_type": "execute_result"
    }
   ],
   "source": [
    "emp_data"
   ]
  },
  {
   "cell_type": "markdown",
   "id": "95003d60",
   "metadata": {},
   "source": [
    "## keyword arguments"
   ]
  },
  {
   "cell_type": "code",
   "execution_count": 35,
   "id": "b27a577d",
   "metadata": {},
   "outputs": [],
   "source": [
    "def fun1(**kwargs):\n",
    "    print(type(kwargs))\n"
   ]
  },
  {
   "cell_type": "code",
   "execution_count": 37,
   "id": "008169ff",
   "metadata": {},
   "outputs": [
    {
     "name": "stdout",
     "output_type": "stream",
     "text": [
      "<class 'dict'>\n"
     ]
    }
   ],
   "source": [
    "fun1(id=192)"
   ]
  },
  {
   "cell_type": "code",
   "execution_count": 38,
   "id": "e91ff637",
   "metadata": {},
   "outputs": [],
   "source": [
    "dct={\n",
    "    \"raman\":102\n",
    "}"
   ]
  },
  {
   "cell_type": "code",
   "execution_count": 39,
   "id": "992dba77",
   "metadata": {},
   "outputs": [
    {
     "data": {
      "text/plain": [
       "dict"
      ]
     },
     "execution_count": 39,
     "metadata": {},
     "output_type": "execute_result"
    }
   ],
   "source": [
    "type(dct)"
   ]
  },
  {
   "cell_type": "code",
   "execution_count": 45,
   "id": "d3cfde2d",
   "metadata": {},
   "outputs": [
    {
     "data": {
      "text/plain": [
       "dict_values([102])"
      ]
     },
     "execution_count": 45,
     "metadata": {},
     "output_type": "execute_result"
    }
   ],
   "source": [
    "dct.values()"
   ]
  },
  {
   "cell_type": "code",
   "execution_count": 46,
   "id": "afdae049",
   "metadata": {},
   "outputs": [
    {
     "data": {
      "text/plain": [
       "dict_keys(['raman'])"
      ]
     },
     "execution_count": 46,
     "metadata": {},
     "output_type": "execute_result"
    }
   ],
   "source": [
    "dct.keys()"
   ]
  },
  {
   "cell_type": "code",
   "execution_count": 48,
   "id": "ebc7acea",
   "metadata": {},
   "outputs": [
    {
     "data": {
      "text/plain": [
       "dict_items([('raman', 102)])"
      ]
     },
     "execution_count": 48,
     "metadata": {},
     "output_type": "execute_result"
    }
   ],
   "source": [
    "dct.items()"
   ]
  },
  {
   "cell_type": "code",
   "execution_count": 51,
   "id": "cfc49d2d",
   "metadata": {},
   "outputs": [],
   "source": [
    "def fun1(**kwargs):\n",
    "    print(type(kwargs))\n",
    "    print(kwargs.items())"
   ]
  },
  {
   "cell_type": "code",
   "execution_count": 52,
   "id": "3bed3d17",
   "metadata": {},
   "outputs": [
    {
     "name": "stdout",
     "output_type": "stream",
     "text": [
      "<class 'dict'>\n",
      "dict_items([('id', 101), ('name', 'raman'), ('salary', 35000)])\n"
     ]
    }
   ],
   "source": [
    "fun1(id=101,name=\"raman\",salary=35000)"
   ]
  },
  {
   "cell_type": "code",
   "execution_count": 62,
   "id": "46e6912a",
   "metadata": {},
   "outputs": [],
   "source": [
    "def add_fun(x,*args):\n",
    "    s=0\n",
    "    for i in args:\n",
    "        s=s+i\n",
    "    welcome=f\"welcome {x}\"\n",
    "    return f\"{welcome}: sum of given numbers is:{s} \""
   ]
  },
  {
   "cell_type": "code",
   "execution_count": 63,
   "id": "f41190f8",
   "metadata": {},
   "outputs": [],
   "source": [
    "add_num=add_fun(\"rashmi\",12,13)"
   ]
  },
  {
   "cell_type": "code",
   "execution_count": 64,
   "id": "dc451f0d",
   "metadata": {},
   "outputs": [
    {
     "data": {
      "text/plain": [
       "'welcome rashmi: sum of given numbers is:25 '"
      ]
     },
     "execution_count": 64,
     "metadata": {},
     "output_type": "execute_result"
    }
   ],
   "source": [
    "add_num"
   ]
  },
  {
   "cell_type": "code",
   "execution_count": 65,
   "id": "7076a558",
   "metadata": {},
   "outputs": [],
   "source": [
    "emp_data1=[101,\"raman\",\"IT\"]"
   ]
  },
  {
   "cell_type": "code",
   "execution_count": 66,
   "id": "005770a4",
   "metadata": {},
   "outputs": [],
   "source": [
    "emp_data2=[102,\"taman\",\"HR\"]\n"
   ]
  },
  {
   "cell_type": "code",
   "execution_count": 68,
   "id": "916a224a",
   "metadata": {},
   "outputs": [],
   "source": [
    "emp_data3=[103,\"suman\",\"BPO\",32000,\"pune\"]"
   ]
  },
  {
   "cell_type": "code",
   "execution_count": 82,
   "id": "263d59fa",
   "metadata": {},
   "outputs": [],
   "source": [
    "def dic_lenght(**kwargs):\n",
    "    dct={}\n",
    "    for key,value in kwargs.items():\n",
    "        dct[key]=len(value)\n",
    "    return dct"
   ]
  },
  {
   "cell_type": "code",
   "execution_count": 83,
   "id": "c0422bde",
   "metadata": {},
   "outputs": [],
   "source": [
    "lenght_fun=dic_lenght(emp1=emp_data1,emp2=emp_data2,emp3=emp_data3)"
   ]
  },
  {
   "cell_type": "code",
   "execution_count": 84,
   "id": "cb31608d",
   "metadata": {},
   "outputs": [
    {
     "data": {
      "text/plain": [
       "{'emp1': 3, 'emp2': 3, 'emp3': 5}"
      ]
     },
     "execution_count": 84,
     "metadata": {},
     "output_type": "execute_result"
    }
   ],
   "source": [
    "lenght_fun"
   ]
  },
  {
   "cell_type": "code",
   "execution_count": 85,
   "id": "0555a5f8",
   "metadata": {},
   "outputs": [],
   "source": [
    "def count_args(*args,**kwargs):\n",
    "    print(len(args),len(kwargs))"
   ]
  },
  {
   "cell_type": "code",
   "execution_count": 86,
   "id": "50684ae8",
   "metadata": {},
   "outputs": [
    {
     "name": "stdout",
     "output_type": "stream",
     "text": [
      "4 1\n"
     ]
    }
   ],
   "source": [
    "count_args(1,3,4,5,name=\"rashmi\")"
   ]
  },
  {
   "cell_type": "code",
   "execution_count": 87,
   "id": "d15ed230",
   "metadata": {},
   "outputs": [
    {
     "name": "stdout",
     "output_type": "stream",
     "text": [
      "5 3\n"
     ]
    }
   ],
   "source": [
    "count_args(12,34,3,4,5,name=\"rash\",id=101,dept=\"It\")"
   ]
  },
  {
   "cell_type": "code",
   "execution_count": null,
   "id": "9b25f0df",
   "metadata": {},
   "outputs": [],
   "source": [
    "    "
   ]
  }
 ],
 "metadata": {
  "kernelspec": {
   "display_name": "venv",
   "language": "python",
   "name": "python3"
  },
  "language_info": {
   "codemirror_mode": {
    "name": "ipython",
    "version": 3
   },
   "file_extension": ".py",
   "mimetype": "text/x-python",
   "name": "python",
   "nbconvert_exporter": "python",
   "pygments_lexer": "ipython3",
   "version": "3.13.7"
  }
 },
 "nbformat": 4,
 "nbformat_minor": 5
}
