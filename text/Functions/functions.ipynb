{
 "cells": [
  {
   "cell_type": "markdown",
   "id": "50e1a922",
   "metadata": {},
   "source": [
    "## variadic functions"
   ]
  },
  {
   "cell_type": "code",
   "execution_count": 1,
   "id": "ee88ae22",
   "metadata": {},
   "outputs": [],
   "source": [
    "def add_num(x:int,y:int):\n",
    "    \"\"\"\n",
    "    take two numbers as input\n",
    "    return addition of two numbers\n",
    "    \"\"\"\n",
    "    z=x+y\n",
    "    return z\n"
   ]
  },
  {
   "cell_type": "code",
   "execution_count": 2,
   "id": "ccc812ca",
   "metadata": {},
   "outputs": [
    {
     "name": "stdout",
     "output_type": "stream",
     "text": [
      "output of addition is 35\n"
     ]
    }
   ],
   "source": [
    "add=add_num(12,23)\n",
    "print(f\"output of addition is {add}\")"
   ]
  },
  {
   "cell_type": "code",
   "execution_count": 3,
   "id": "74fe9188",
   "metadata": {},
   "outputs": [],
   "source": [
    "def add(*args):\n",
    "    for i in args:\n",
    "        print(i)\n"
   ]
  },
  {
   "cell_type": "code",
   "execution_count": 4,
   "id": "986f7591",
   "metadata": {},
   "outputs": [
    {
     "name": "stdout",
     "output_type": "stream",
     "text": [
      "12\n",
      "23\n",
      "45\n",
      "12\n"
     ]
    }
   ],
   "source": [
    "add(12,23,45,12)"
   ]
  },
  {
   "cell_type": "code",
   "execution_count": 9,
   "id": "f41cb243",
   "metadata": {},
   "outputs": [],
   "source": [
    "def add1(*args):\n",
    "    s=0\n",
    "    for i in args:\n",
    "        s=s+i\n",
    "    return s"
   ]
  },
  {
   "cell_type": "code",
   "execution_count": 10,
   "id": "43696e89",
   "metadata": {},
   "outputs": [
    {
     "data": {
      "text/plain": [
       "114"
      ]
     },
     "execution_count": 10,
     "metadata": {},
     "output_type": "execute_result"
    }
   ],
   "source": [
    "addition=add1(12,23,34,45)\n",
    "addition"
   ]
  },
  {
   "cell_type": "code",
   "execution_count": 11,
   "id": "0a4cec8c",
   "metadata": {},
   "outputs": [
    {
     "data": {
      "text/plain": [
       "10"
      ]
     },
     "execution_count": 11,
     "metadata": {},
     "output_type": "execute_result"
    }
   ],
   "source": [
    "add2=add1(1,2,3,4)\n",
    "add2"
   ]
  },
  {
   "cell_type": "code",
   "execution_count": 12,
   "id": "3c719854",
   "metadata": {},
   "outputs": [],
   "source": [
    "def multiplcation(*args):\n",
    "    s=1\n",
    "    for i in args:\n",
    "        s=s*i\n",
    "    return s"
   ]
  },
  {
   "cell_type": "code",
   "execution_count": 13,
   "id": "375801d9",
   "metadata": {},
   "outputs": [
    {
     "data": {
      "text/plain": [
       "276"
      ]
     },
     "execution_count": 13,
     "metadata": {},
     "output_type": "execute_result"
    }
   ],
   "source": [
    "mul1=multiplcation(12,23)\n",
    "mul1"
   ]
  },
  {
   "cell_type": "code",
   "execution_count": 14,
   "id": "aac765d8",
   "metadata": {},
   "outputs": [],
   "source": [
    "mul2=multiplcation(23,45,56,67)"
   ]
  },
  {
   "cell_type": "code",
   "execution_count": 15,
   "id": "c53b655c",
   "metadata": {},
   "outputs": [
    {
     "data": {
      "text/plain": [
       "3883320"
      ]
     },
     "execution_count": 15,
     "metadata": {},
     "output_type": "execute_result"
    }
   ],
   "source": [
    "mul2"
   ]
  },
  {
   "cell_type": "code",
   "execution_count": 16,
   "id": "cad8cdee",
   "metadata": {},
   "outputs": [],
   "source": [
    "def mul(x,*args):\n",
    "    p=1\n",
    "    for i in args:\n",
    "        p=p*i\n",
    "    return f\"product performed by {x} is {p}\"    "
   ]
  },
  {
   "cell_type": "code",
   "execution_count": 17,
   "id": "b6afdc41",
   "metadata": {},
   "outputs": [
    {
     "data": {
      "text/plain": [
       "'product performed by rashmi is 68'"
      ]
     },
     "execution_count": 17,
     "metadata": {},
     "output_type": "execute_result"
    }
   ],
   "source": [
    "mul3=mul(\"rashmi\",34,2)\n",
    "mul3"
   ]
  },
  {
   "cell_type": "code",
   "execution_count": 18,
   "id": "a690bd66",
   "metadata": {},
   "outputs": [],
   "source": [
    "def multiply(x,*args):\n",
    "    p=1\n",
    "    for i in args:\n",
    "        p=p*i\n",
    "    welcome=f\"welcome {x}\"    \n",
    "    return f\"{welcome}: product of the provided data is {p}\"    "
   ]
  },
  {
   "cell_type": "code",
   "execution_count": 19,
   "id": "6f7e6dc4",
   "metadata": {},
   "outputs": [
    {
     "data": {
      "text/plain": [
       "'welcome Rashmi: product of the provided data is 24'"
      ]
     },
     "execution_count": 19,
     "metadata": {},
     "output_type": "execute_result"
    }
   ],
   "source": [
    "mul4=multiply(\"Rashmi\",12,2)\n",
    "mul4"
   ]
  },
  {
   "cell_type": "code",
   "execution_count": null,
   "id": "f3a8b206",
   "metadata": {},
   "outputs": [],
   "source": []
  }
 ],
 "metadata": {
  "kernelspec": {
   "display_name": "venv",
   "language": "python",
   "name": "python3"
  },
  "language_info": {
   "codemirror_mode": {
    "name": "ipython",
    "version": 3
   },
   "file_extension": ".py",
   "mimetype": "text/x-python",
   "name": "python",
   "nbconvert_exporter": "python",
   "pygments_lexer": "ipython3",
   "version": "3.13.7"
  }
 },
 "nbformat": 4,
 "nbformat_minor": 5
}
